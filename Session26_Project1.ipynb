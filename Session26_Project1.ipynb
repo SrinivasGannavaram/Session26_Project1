{
 "cells": [
  {
   "cell_type": "markdown",
   "metadata": {},
   "source": [
    "Problem Statement\n",
    "\n",
    "This data was extracted from the census bureau database found at\n",
    "http://www.census.gov/ftp/pub/DES/www/welcome.html\n",
    "Donor: Ronny Kohavi and Barry Becker,\n",
    "Data Mining and Visualization\n",
    "Silicon Graphics.\n",
    "e-mail: ronnyk@sgi.com for questions.\n",
    "Split into train-test using MLC++ GenCVFiles (2/3, 1/3 random).\n",
    "48842 instances, mix of continuous and discrete (train=32561, test=16281)\n",
    "45222 if instances with unknown values are removed (train=30162, test=15060)\n",
    "Duplicate or conflicting instances : 6\n",
    "Class probabilities for adult.all file\n",
    "Probability for the label '>50K' : 23.93% / 24.78% (without unknowns)\n",
    "Probability for the label '<=50K' : 76.07% / 75.22% (without unknowns)\n",
    "\n",
    "Extraction was done by Barry Becker from the 1994 Census database. A set of\n",
    "reasonably clean records was extracted using the following conditions:\n",
    "((AAGE>16) && (AGI>100) && (AFNLWGT>1)&& (HRSWK>0)) Prediction task is to\n",
    "determine whether a person makes over 50K a year. Conversion of original data as\n",
    "follows:\n",
    "1. Discretized a gross income into two ranges with threshold 50,000.\n",
    "2. Convert U.S. to US to avoid periods.\n",
    "3. Convert Unknown to \"?\"\n",
    "4. Run MLC++ GenCVFiles to generate data,test.\n",
    "Description of fnlwgt (final weight)\n",
    "The weights on the CPS files are controlled to independent estimates of the civilian\n",
    "noninstitutional population of the US. These are prepared monthly for us by Population\n",
    "Division here at the Census Bureau. We use 3 sets of controls.\n",
    "These are:\n",
    "1. A single cell estimate of the population 16+ for each state.\n",
    "2. Controls for Hispanic Origin by age and sex.\n",
    "3. Controls by Race, age and sex.\n",
    "We use all three sets of controls in our weighting program and \"rake\" through them 6\n",
    "times so that by the end we come back to all the controls we used.\n",
    "The term estimate refers to population totals derived from CPS by creating \"weighted\n",
    "tallies\" of any specified socio-economic characteristics of the population. People with\n",
    "similar demographic characteristics should have similar weights. There is one important\n",
    "caveat to remember about this statement. That is that since the CPS sample is actually a\n",
    "collection of 51 state samples, each with its own probability of selection, the statement\n",
    "only applies within state.\n",
    "\n",
    "Dataset Link\n",
    "\n",
    "https://archive.ics.uci.edu/ml/machine-learning-databases/adult/\n",
    "\n",
    "Problem 1:\n",
    "Prediction task is to determine whether a person makes over 50K a year.\n",
    "\n",
    "Problem 2:\n",
    "Which factors are important\n",
    "\n",
    "Problem 3:\n",
    "Which algorithms are best for this dataset"
   ]
  },
  {
   "cell_type": "code",
   "execution_count": 1,
   "metadata": {},
   "outputs": [],
   "source": [
    "#Importing the required Libraries.\n",
    "import pandas as pd\n",
    "import numpy as np\n",
    "import matplotlib.pyplot as plt\n",
    "from sklearn import metrics\n",
    "from sklearn import datasets\n",
    "from sklearn.linear_model import LogisticRegression\n",
    "from sklearn.tree import DecisionTreeClassifier\n",
    "from sklearn.ensemble import GradientBoostingClassifier, RandomForestClassifier, AdaBoostClassifier\n",
    "from sklearn import tree\n",
    "from sklearn.model_selection import KFold, cross_val_score\n",
    "from sklearn.model_selection import train_test_split"
   ]
  },
  {
   "cell_type": "code",
   "execution_count": 2,
   "metadata": {},
   "outputs": [],
   "source": [
    "%matplotlib inline"
   ]
  },
  {
   "cell_type": "code",
   "execution_count": 3,
   "metadata": {},
   "outputs": [],
   "source": [
    "pd.options.display.max_columns = 999"
   ]
  },
  {
   "cell_type": "code",
   "execution_count": null,
   "metadata": {},
   "outputs": [],
   "source": []
  }
 ],
 "metadata": {
  "kernelspec": {
   "display_name": "Python 3",
   "language": "python",
   "name": "python3"
  },
  "language_info": {
   "codemirror_mode": {
    "name": "ipython",
    "version": 3
   },
   "file_extension": ".py",
   "mimetype": "text/x-python",
   "name": "python",
   "nbconvert_exporter": "python",
   "pygments_lexer": "ipython3",
   "version": "3.6.6"
  }
 },
 "nbformat": 4,
 "nbformat_minor": 2
}
